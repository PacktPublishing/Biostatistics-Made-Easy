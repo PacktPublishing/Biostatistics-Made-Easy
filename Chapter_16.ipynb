{
 "cells": [
  {
   "cell_type": "markdown",
   "id": "6ac69971",
   "metadata": {},
   "source": [
    "\n",
    "# Data Analysis Frameworks and Performance for Life Science Research\n",
    "\n",
    "This notebook explores concepts such as statistical frameworks, study designs, causal inference, and sensitivity analysis in life science research. It integrates practical Python examples for clarity.\n",
    "\n",
    "## Topics Covered\n",
    "- Frequentist and Bayesian Frameworks\n",
    "- Study Design Principles in Life Sciences\n",
    "- Connecting Experiments to Statistical Analysis\n",
    "- Causal Inference and Latent Variables\n",
    "- Sensitivity Analysis\n",
    "\n",
    "### Prerequisites\n",
    "Install the required Python packages:\n",
    "```bash\n",
    "pip install numpy pandas matplotlib seaborn statsmodels\n",
    "```\n",
    "        "
   ]
  },
  {
   "cell_type": "markdown",
   "id": "d908b32e",
   "metadata": {},
   "source": [
    "\n",
    "## Frequentist Framework\n",
    "\n",
    "Frequentist statistics rely on repeated sampling and are widely used in clinical trials and life sciences. Key tools include p-values and confidence intervals.\n",
    "        "
   ]
  },
  {
   "cell_type": "code",
   "execution_count": null,
   "id": "77b725ca",
   "metadata": {},
   "outputs": [],
   "source": [
    "\n",
    "import numpy as np\n",
    "import scipy.stats as stats\n",
    "\n",
    "# Example: Confidence interval for a mean\n",
    "sample_data = [5.1, 5.8, 6.2, 5.9, 6.1]\n",
    "mean = np.mean(sample_data)\n",
    "std_err = stats.sem(sample_data)  # Standard error\n",
    "confidence_interval = stats.t.interval(0.95, len(sample_data)-1, loc=mean, scale=std_err)\n",
    "\n",
    "print(f\"Sample Mean: {mean}\")\n",
    "print(f\"95% Confidence Interval: {confidence_interval}\")\n",
    "        "
   ]
  },
  {
   "cell_type": "markdown",
   "id": "3d85b780",
   "metadata": {},
   "source": [
    "\n",
    "## Bayesian Framework\n",
    "\n",
    "Bayesian statistics integrate prior knowledge with observed data to calculate posterior probabilities.\n",
    "        "
   ]
  },
  {
   "cell_type": "code",
   "execution_count": null,
   "id": "f08e2e30",
   "metadata": {},
   "outputs": [],
   "source": [
    "\n",
    "# Example: Bayesian updating\n",
    "prior = 0.5  # Initial belief\n",
    "likelihood = 0.8  # Data support for hypothesis\n",
    "evidence = 0.7  # Overall evidence\n",
    "\n",
    "posterior = (likelihood * prior) / evidence\n",
    "print(f\"Posterior Probability: {posterior}\")\n",
    "        "
   ]
  },
  {
   "cell_type": "markdown",
   "id": "fa3ee605",
   "metadata": {},
   "source": [
    "\n",
    "## Study Design Principles\n",
    "\n",
    "Key steps in designing a biological study:\n",
    "1. Define the research problem and endpoints.\n",
    "2. Identify potential statistical frameworks.\n",
    "3. Integrate biological and statistical perspectives.\n",
    "4. Prepare necessary documentation.\n",
    "        "
   ]
  },
  {
   "cell_type": "markdown",
   "id": "86d94c50",
   "metadata": {},
   "source": [
    "\n",
    "## Causal Inference\n",
    "\n",
    "Causal inference evaluates whether one variable causes changes in another. Randomized Controlled Trials (RCTs) and counterfactual designs are standard methods.\n",
    "        "
   ]
  },
  {
   "cell_type": "code",
   "execution_count": null,
   "id": "b66c1cae",
   "metadata": {},
   "outputs": [],
   "source": [
    "\n",
    "# Simulating causal inference\n",
    "np.random.seed(42)\n",
    "group_A = np.random.normal(10, 2, 100)\n",
    "group_B = np.random.normal(12, 2, 100)\n",
    "\n",
    "# t-test to compare groups\n",
    "t_stat, p_value = stats.ttest_ind(group_A, group_B)\n",
    "print(f\"T-statistic: {t_stat}\")\n",
    "print(f\"P-value: {p_value}\")\n",
    "        "
   ]
  },
  {
   "cell_type": "markdown",
   "id": "dd98b5b1",
   "metadata": {},
   "source": [
    "\n",
    "## Sensitivity Analysis\n",
    "\n",
    "Evaluate how sensitive results are to assumptions or methods. For example, test model results with different assumptions.\n",
    "        "
   ]
  },
  {
   "cell_type": "code",
   "execution_count": null,
   "id": "1161e7a3",
   "metadata": {},
   "outputs": [],
   "source": [
    "\n",
    "# Example: Sensitivity analysis by changing sample size\n",
    "sample_sizes = [10, 20, 50, 100]\n",
    "for n in sample_sizes:\n",
    "    sample = np.random.normal(10, 2, n)\n",
    "    mean = np.mean(sample)\n",
    "    print(f\"Sample Size: {n}, Mean: {mean:.2f}\")\n",
    "        "
   ]
  },
  {
   "cell_type": "markdown",
   "id": "3a1a43cd",
   "metadata": {},
   "source": [
    "\n",
    "## Visualizing Data\n",
    "\n",
    "Use histograms and scatter plots to understand data distributions and relationships.\n",
    "        "
   ]
  },
  {
   "cell_type": "code",
   "execution_count": null,
   "id": "e0c7d455",
   "metadata": {},
   "outputs": [],
   "source": [
    "\n",
    "import matplotlib.pyplot as plt\n",
    "import seaborn as sns\n",
    "\n",
    "# Example data\n",
    "data = np.random.normal(10, 2, 100)\n",
    "sns.histplot(data, kde=True)\n",
    "plt.title(\"Data Distribution\")\n",
    "plt.xlabel(\"Value\")\n",
    "plt.ylabel(\"Frequency\")\n",
    "plt.show()\n",
    "        "
   ]
  }
 ],
 "metadata": {},
 "nbformat": 4,
 "nbformat_minor": 5
}
